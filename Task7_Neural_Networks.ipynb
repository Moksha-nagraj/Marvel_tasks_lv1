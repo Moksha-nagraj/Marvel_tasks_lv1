{
  "nbformat": 4,
  "nbformat_minor": 0,
  "metadata": {
    "colab": {
      "provenance": [],
      "authorship_tag": "ABX9TyMVJcWeGX54e8n1+Rqg2gx1",
      "include_colab_link": true
    },
    "kernelspec": {
      "name": "python3",
      "display_name": "Python 3"
    },
    "language_info": {
      "name": "python"
    }
  },
  "cells": [
    {
      "cell_type": "markdown",
      "metadata": {
        "id": "view-in-github",
        "colab_type": "text"
      },
      "source": [
        "<a href=\"https://colab.research.google.com/github/Moksha-nagraj/Marvel_tasks_lv1/blob/main/Task7_Neural_Networks.ipynb\" target=\"_parent\"><img src=\"https://colab.research.google.com/assets/colab-badge.svg\" alt=\"Open In Colab\"/></a>"
      ]
    },
    {
      "cell_type": "markdown",
      "source": [
        "# **Neural Networks**\n",
        "**Neural Network** is a computational model inspired by the structure and functioning of the human brain. Just like the brain consists of interconnected neurons, a Neural Network comprises layers of artificial neurons, each layer performing specific computations.\n",
        "![Alt NeuralNetworks](https://d3lkc3n5th01x7.cloudfront.net/wp-content/uploads/2023/05/30234847/What-are-neural-networks-Feature.svg)\n",
        "\n",
        "\n",
        "## Types of Neural Networks\n",
        "\n",
        "\n",
        "#### 1. Artificial Neural Networks (ANN):\n",
        "Artificial Neural Networks consists of an input layer, one or more hidden layers, and an output layer.\n",
        "<br>It is also known as **Feed-Forward Neural Network** because inputs are processes only in forward direction.<br>\n",
        "Mathematically, the output of each neuron is determined by applying an activation function to the weighted sum of its inputs, often represented as:<br>\n",
        "![Alt ANN](https://miro.medium.com/v2/resize:fit:651/1*MfPdNrknsuiA-k9JjVl2Ow.jpeg)<br>\n",
        "Where:\n",
        "* y is the output of the neuron.\n",
        "* f is the activation function.\n",
        "* w are the weights associated with each input.\n",
        "* x are the input values.\n",
        "* b is the bias term.\n",
        "\n",
        "#### 2. Convolutional Neural Networks (CNN):\n",
        "Convolutional Neural Networks (CNNs) are a specialized type of Neural Network designed for tasks involving images. They consist of convolutional layers, pooling layers, and fully connected layers.\n",
        "![Alt CNN](https://d14b9ctw0m6fid.cloudfront.net/ugblog/wp-content/uploads/2020/12/1-4.png)<br>\n",
        "In CNNs, convolutional layers apply filters to the input image, extracting features such as edges, textures, and shapes. Pooling layers then downsample the feature maps to reduce their dimensionality while preserving important information. Finally, fully connected layers perform classification based on the extracted features.\n",
        "\n"
      ],
      "metadata": {
        "id": "5EAiWswwFhyK"
      }
    }
  ]
}