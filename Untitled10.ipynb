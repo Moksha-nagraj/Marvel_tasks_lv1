{
  "nbformat": 4,
  "nbformat_minor": 0,
  "metadata": {
    "colab": {
      "provenance": [],
      "authorship_tag": "ABX9TyMYiJVhoHHOq26O4wOV8Dpj",
      "include_colab_link": true
    },
    "kernelspec": {
      "name": "python3",
      "display_name": "Python 3"
    },
    "language_info": {
      "name": "python"
    }
  },
  "cells": [
    {
      "cell_type": "markdown",
      "metadata": {
        "id": "view-in-github",
        "colab_type": "text"
      },
      "source": [
        "<a href=\"https://colab.research.google.com/github/Moksha-nagraj/Marvel_tasks_lv1/blob/main/Untitled10.ipynb\" target=\"_parent\"><img src=\"https://colab.research.google.com/assets/colab-badge.svg\" alt=\"Open In Colab\"/></a>"
      ]
    },
    {
      "cell_type": "markdown",
      "source": [
        "# **Regression metrics**\n",
        "Regression models are another family of machine learning and statistical models, which are used to predict a continuous target values.\n",
        "##### **Types of Regression Metrics**\n",
        "1. Mean Absolute Error (MAE)\n",
        "2. Mean Squared Error (MSE)\n",
        "3. R-squared (R²) Score\n",
        "4. Root Mean Squared Error (RMSE)\n",
        "\n",
        "## Mean Absolute Error (MAE)\n",
        "\n",
        "\n",
        "*   It essentially finds the average squared error between the predicted and actual values.\n",
        "*   Mathematical Formula\n",
        "\n",
        "\n",
        "![alt text](https://lh5.googleusercontent.com/UU0UymvLgNfq6va2--cOndvalbdcZQX20FuzalU2RR0qxwesRa2pjZesapeFvMnRu39KlVbGIhVk6W6w1C2o_WbwEOYoU9UZtnZCw2eS2hBQbR-4RSShqkMGGCfg9Lr3eVM_1e-8)\n",
        "\n"
      ],
      "metadata": {
        "id": "x3I0VvdueuPB"
      }
    },
    {
      "cell_type": "code",
      "source": [],
      "metadata": {
        "id": "I474hQE9ewjD"
      },
      "execution_count": null,
      "outputs": []
    }
  ]
}