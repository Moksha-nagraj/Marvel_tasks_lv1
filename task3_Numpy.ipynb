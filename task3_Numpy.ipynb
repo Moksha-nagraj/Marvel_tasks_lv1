{
  "nbformat": 4,
  "nbformat_minor": 0,
  "metadata": {
    "colab": {
      "provenance": [],
      "authorship_tag": "ABX9TyNcqRWRJcQVipzqsgTrh9sI",
      "include_colab_link": true
    },
    "kernelspec": {
      "name": "python3",
      "display_name": "Python 3"
    },
    "language_info": {
      "name": "python"
    }
  },
  "cells": [
    {
      "cell_type": "markdown",
      "metadata": {
        "id": "view-in-github",
        "colab_type": "text"
      },
      "source": [
        "<a href=\"https://colab.research.google.com/github/Moksha-nagraj/Marvel_tasks_lv1/blob/main/task3_Numpy.ipynb\" target=\"_parent\"><img src=\"https://colab.research.google.com/assets/colab-badge.svg\" alt=\"Open In Colab\"/></a>"
      ]
    },
    {
      "cell_type": "code",
      "execution_count": null,
      "metadata": {
        "colab": {
          "base_uri": "https://localhost:8080/"
        },
        "id": "G3-5pfbnEL6-",
        "outputId": "cb708b4b-a08f-4005-c419-7bd45843e912"
      },
      "outputs": [
        {
          "output_type": "stream",
          "name": "stdout",
          "text": [
            "Small Array:\n",
            "[[1 2]\n",
            " [3 4]]\n",
            "\n",
            "Array by Repeating Small Array:\n",
            "[[1 2 1 2]\n",
            " [3 4 3 4]\n",
            " [1 2 1 2]\n",
            " [3 4 3 4]\n",
            " [1 2 1 2]\n",
            " [3 4 3 4]]\n",
            "\n",
            "Array with Element Indexes:\n",
            "[[ 0  1  2  3]\n",
            " [ 4  5  6  7]\n",
            " [ 8  9 10 11]\n",
            " [12 13 14 15]\n",
            " [16 17 18 19]\n",
            " [20 21 22 23]]\n"
          ]
        }
      ],
      "source": [
        "import numpy as np\n",
        "\n",
        "# Generate an array by repeating a small array across each dimension\n",
        "small_array = np.array([[1, 2], [3, 4]])\n",
        "repeated_array = np.tile(small_array, (3, 2))\n",
        "\n",
        "# Generate an array with element indexes such that the array elements appear in ascending order\n",
        "index_array = np.arange(repeated_array.size).reshape(repeated_array.shape)\n",
        "\n",
        "# Print the arrays\n",
        "print(\"Small Array:\")\n",
        "print(small_array)\n",
        "\n",
        "print(\"\\nArray by Repeating Small Array:\")\n",
        "print(repeated_array)\n",
        "\n",
        "print(\"\\nArray with Element Indexes:\")\n",
        "print(index_array)\n"
      ]
    }
  ]
}