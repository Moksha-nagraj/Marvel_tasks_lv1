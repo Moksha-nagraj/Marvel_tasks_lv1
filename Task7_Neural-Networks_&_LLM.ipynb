{
  "nbformat": 4,
  "nbformat_minor": 0,
  "metadata": {
    "colab": {
      "provenance": [],
      "authorship_tag": "ABX9TyN/LU/rnEGNUZ4opRrsyrGf",
      "include_colab_link": true
    },
    "kernelspec": {
      "name": "python3",
      "display_name": "Python 3"
    },
    "language_info": {
      "name": "python"
    }
  },
  "cells": [
    {
      "cell_type": "markdown",
      "metadata": {
        "id": "view-in-github",
        "colab_type": "text"
      },
      "source": [
        "<a href=\"https://colab.research.google.com/github/Moksha-nagraj/Marvel_tasks_lv1/blob/main/Task7_Neural-Networks_%26_LLM.ipynb\" target=\"_parent\"><img src=\"https://colab.research.google.com/assets/colab-badge.svg\" alt=\"Open In Colab\"/></a>"
      ]
    },
    {
      "cell_type": "markdown",
      "source": [
        "# **Neural Networks**\n",
        "### **Neural Network** is a computational model inspired by the structure and functioning of the human brain. Just like the brain consists of interconnected neurons, a Neural Network comprises layers of artificial neurons, each layer performing specific computations.\n",
        "![Alt NeuralNetworks](https://d3lkc3n5th01x7.cloudfront.net/wp-content/uploads/2023/05/30234847/What-are-neural-networks-Feature.svg)\n",
        "\n",
        "\n",
        "# Types of Neural Networks\n",
        "\n",
        "\n",
        "## 1. Artificial Neural Networks (ANN):\n",
        " ### Artificial Neural Networks consists of an input layer, one or more hidden layers, and an output layer.\n",
        "### It is also known as **Feed-Forward Neural Network** because inputs are processes only in forward direction.\n",
        "### Mathematically, the output of each neuron is determined by applying an activation function to the weighted sum of its inputs, often represented as:<br>\n",
        "![Alt ANN](https://miro.medium.com/v2/resize:fit:651/1*MfPdNrknsuiA-k9JjVl2Ow.jpeg)<br>\n",
        "### Where:\n",
        "* ### y is the output of the neuron.\n",
        "* ### f is the activation function.\n",
        "* ### w are the weights associated with each input.\n",
        "* ### x are the input values.\n",
        "* ### b is the bias term.\n",
        "\n",
        "## 2. Convolutional Neural Networks (CNN):\n",
        "### Convolutional Neural Networks (CNNs) are a specialized type of Neural Network designed for tasks involving images. They consist of convolutional layers, pooling layers, and fully connected layers.\n",
        "![Alt CNN](https://d14b9ctw0m6fid.cloudfront.net/ugblog/wp-content/uploads/2020/12/1-4.png)<br>\n",
        "### In CNNs, convolutional layers apply filters to the input image, extracting features such as edges, textures, and shapes. Pooling layers then downsample the feature maps to reduce their dimensionality while preserving important information. Finally, fully connected layers perform classification based on the extracted features.\n",
        "\n"
      ],
      "metadata": {
        "id": "5EAiWswwFhyK"
      }
    },
    {
      "cell_type": "markdown",
      "source": [
        "# **Learning Large Language Models and Building GPT-4:**\n",
        "* ### **Large Language Models (LLMs**) are smart computer programs that understand and write text like humans, using a lot of training data.<br>\n",
        " ![ALt LLM](https://miro.medium.com/v2/resize:fit:1400/1*mekXmmtvgV1Not3AMiJO7w.png)<br>\n",
        " * ### **Builing GPT-4** involves making it even bigger and smarter by feeding it more data, fine-tuning it for specific tasks, ensuring fairness in its outputs, and optimizing its efficiency. With these enhancements, GPT-4 could further advance the capabilities of language models, offering even more sophisticated and versatile language generation abilities.\n",
        " * ### Building GPT-4 by learning from Large Language Models (LLMs) like GPT-3 is a big step forward in making computers understand and use language better. By studying how previous models worked, we're making GPT-4 smarter and more useful. With GPT-4, we're aiming to create a computer buddy that can help us with all sorts of tasks, from answering questions to writing stories, while making sure it's fair and reliable. This progress shows how far we've come in making computers more like us in how they understand and use language, opening up exciting possibilities for the future."
      ],
      "metadata": {
        "id": "6lLPK6GTf6tC"
      }
    }
  ]
}